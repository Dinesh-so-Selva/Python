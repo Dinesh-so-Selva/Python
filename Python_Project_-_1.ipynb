{
 "cells": [
  {
   "cell_type": "code",
   "execution_count": 10,
   "id": "77bd6c69-306c-426a-a48a-00dc8ebb9591",
   "metadata": {},
   "outputs": [
    {
     "name": "stdout",
     "output_type": "stream",
     "text": [
      "----Welcome to riddle game----\n",
      "---Enter q to quit any time---\n",
      "\n",
      "Question: What has a head and a tail but no body?\n"
     ]
    },
    {
     "name": "stdin",
     "output_type": "stream",
     "text": [
      "Enter the answer (q to quit):  q\n"
     ]
    },
    {
     "name": "stdout",
     "output_type": "stream",
     "text": [
      "----- Game Over -----\n",
      "You didn't attempt any questions.\n",
      "Thanks for playing!\n"
     ]
    }
   ],
   "source": [
    "# TASK - 1 Riddle Game\n",
    "\n",
    "import random\n",
    "\n",
    "def play_riddle_game():\n",
    "    riddles = {\n",
    "        \"What has to be broken before you can use it?\" : \"egg\",\n",
    "        \"What has hands but can’t clap?\" : \"clock\",\n",
    "        \"What has a head and a tail but no body?\" : \"coin\"\n",
    "    }\n",
    "    \n",
    "    score = 0\n",
    "    total = 0\n",
    "    \n",
    "    riddle_list = list(riddles.items())\n",
    "    random.shuffle(riddle_list)\n",
    "    \n",
    "    print(\"----Welcome to riddle game----\")\n",
    "    print(\"---Enter q to quit any time---\\n\")\n",
    "    \n",
    "    for que, ans in riddle_list:\n",
    "        print(f\"Question: {que}\")\n",
    "        user_input = input(\"Enter the answer (q to quit): \")\n",
    "        while user_input.isdigit():\n",
    "            print(\"Invalid entry\")\n",
    "            user_input = input(\"Enter the answer (q to quit): \")\n",
    "        if user_input.lower() == \"q\":\n",
    "            break\n",
    "        elif user_input.lower() == ans:\n",
    "            print(\"The answer is correct!\")\n",
    "            score += 1\n",
    "            total += 1\n",
    "        else:\n",
    "            print(\"The answer is incorrect\")\n",
    "            print(f\"The correct answer is {ans}\")\n",
    "            total += 1\n",
    "        choice = input(\"Do you want to continue playing? (Yes/No): \")\n",
    "        if choice.lower() != \"yes\":\n",
    "            break\n",
    "    \n",
    "    print(\"----- Game Over -----\")\n",
    "    if total >0:\n",
    "        percentage = (score/total)*100\n",
    "        print(f\"Your score: {score} out of {total} as {percentage:.2f}%\")\n",
    "    else:\n",
    "        print(\"You didn't attempt any questions.\")\n",
    "    print(\"Thanks for playing!\")\n",
    "\n",
    "    \n",
    "play_riddle_game() "
   ]
  },
  {
   "cell_type": "code",
   "execution_count": 11,
   "id": "03fcd6f1-2489-4f8f-a009-a7b47c373bcd",
   "metadata": {},
   "outputs": [
    {
     "name": "stdout",
     "output_type": "stream",
     "text": [
      "----Welcome to Maths game----\n",
      "Question: 4 + 3\n"
     ]
    },
    {
     "name": "stdin",
     "output_type": "stream",
     "text": [
      "Enter the answer:  7\n"
     ]
    },
    {
     "name": "stdout",
     "output_type": "stream",
     "text": [
      "Your answer is correct!\n"
     ]
    },
    {
     "name": "stdin",
     "output_type": "stream",
     "text": [
      "Do you wish to play again (Yes/No):  no\n"
     ]
    },
    {
     "name": "stdout",
     "output_type": "stream",
     "text": [
      "Thanks for playing!\n",
      "Your final score is: 1 out of 1 as 100.00%\n"
     ]
    }
   ],
   "source": [
    "# TASK - 2 Arithmetic Operator game\n",
    "import random\n",
    "\n",
    "def play_arithmetic_puzzle():\n",
    "    print(\"----Welcome to Maths game----\")\n",
    "    score = 0\n",
    "    total = 0\n",
    "    while True:\n",
    "        num1 = random.randint(1,20)\n",
    "        num2 = random.randint(1,20)\n",
    "        operator = random.choice([\"*\", \"+\", \"-\", \"/\"]) \n",
    "        question = f\"{num1} {operator} {num2}\"\n",
    "        answer = eval(question)\n",
    "    \n",
    "        print(f\"Question: {question}\")\n",
    "        try:\n",
    "            user_input = float(input(\"Enter the answer: \"))\n",
    "        except ValueError:\n",
    "            print(\"You can enter only numbers\")\n",
    "            user_input = float(input(\"Enter the answer: \"))\n",
    "        if round(user_input, 2) == round(answer, 2):\n",
    "            print(\"Your answer is correct!\")\n",
    "            score += 1\n",
    "            total += 1\n",
    "        elif user_input != answer:\n",
    "            print(\"Your answer is incorrect\")\n",
    "            print(f\"The correct answer is {answer: .2f}\")\n",
    "            total += 1 \n",
    "        choice = input(\"Do you wish to play again (Yes/No): \")\n",
    "        if choice.strip().lower() == \"yes\":\n",
    "            continue\n",
    "        elif choice.strip().lower() == \"no\":\n",
    "            break\n",
    "        else: \n",
    "            print(\"Invalid entry, exiting game.\")\n",
    "            break\n",
    "    percentage = (score/total)*100\n",
    "    print(\"Thanks for playing!\")\n",
    "    print(f\"Your final score is: {score} out of {total} as {percentage:.2f}%\")\n",
    "\n",
    "play_arithmetic_puzzle()"
   ]
  },
  {
   "cell_type": "code",
   "execution_count": 14,
   "id": "8dee77c6-4983-4841-89c1-1e61d58f9ae4",
   "metadata": {},
   "outputs": [
    {
     "name": "stdout",
     "output_type": "stream",
     "text": [
      "Welcome to General Knowledge Quiz Game\n",
      "\n",
      "Select a category:\n",
      "1. Science\n",
      "2. Maths\n",
      "3. Geography\n",
      "4. Others\n",
      "5. Exit\n"
     ]
    },
    {
     "name": "stdin",
     "output_type": "stream",
     "text": [
      "Enter your choice (1-5):  2\n"
     ]
    },
    {
     "name": "stdout",
     "output_type": "stream",
     "text": [
      "\n",
      "Question: What is the only even prime number?\n"
     ]
    },
    {
     "name": "stdin",
     "output_type": "stream",
     "text": [
      "Your answer (or 'q' to quit):  2\n"
     ]
    },
    {
     "name": "stdout",
     "output_type": "stream",
     "text": [
      "✅ Correct!\n",
      "\n",
      "Question: What is the sum of the first 5 natural numbers?\n"
     ]
    },
    {
     "name": "stdin",
     "output_type": "stream",
     "text": [
      "Your answer (or 'q' to quit):  q\n"
     ]
    },
    {
     "name": "stdout",
     "output_type": "stream",
     "text": [
      "\n",
      "----- Quiz Completed -----\n",
      "Total Questions: 1\n",
      "Correct Answers: 1\n",
      "🎯 Your Score: 100.00%\n"
     ]
    },
    {
     "name": "stdin",
     "output_type": "stream",
     "text": [
      "\n",
      "Do you want to play another category? (Yes/No):  n\n"
     ]
    },
    {
     "name": "stdout",
     "output_type": "stream",
     "text": [
      "Please enter 'Yes' or 'No'.\n"
     ]
    },
    {
     "name": "stdin",
     "output_type": "stream",
     "text": [
      "\n",
      "Do you want to play another category? (Yes/No):  no\n"
     ]
    },
    {
     "name": "stdout",
     "output_type": "stream",
     "text": [
      "Thank you for playing! Goodbye 👋\n"
     ]
    }
   ],
   "source": [
    "def play_gk_quiz():\n",
    "    print(\"Welcome to General Knowledge Quiz Game\")\n",
    "\n",
    "    def ask_category():\n",
    "        science = {\n",
    "            \"Which gas do plants absorb during photosynthesis?\": \"Carbon dioxide\",\n",
    "            \"How many bones are there in the adult human body?\": \"206\"\n",
    "        }\n",
    "        maths = {\n",
    "            \"What is the only even prime number?\": \"2\",\n",
    "            \"What is the sum of the first 5 natural numbers?\": \"15\",\n",
    "            \"What is the name of the mathematical symbol π?\": \"Pi\"\n",
    "        }\n",
    "        geography = {\n",
    "            \"What is the tallest mountain on Earth?\": \"Mount Everest\",\n",
    "            \"What is the capital of France?\": \"Paris\",\n",
    "            \"Which planet is known as the 'Red Planet'?\": \"Mars\"\n",
    "        }\n",
    "        others = {\n",
    "            \"Which country won the most recent FIFA World Cup (as of 2022)?\": \"Argentina\",\n",
    "            \"Who invented the light bulb?\": \"Thomas Edison\",\n",
    "            \"In what year did India declare itself a Democratic and Republic state with the adoption of the Constitution?\": \"1950\"\n",
    "        }\n",
    "\n",
    "        while True:\n",
    "            print(\"\\nSelect a category:\")\n",
    "            print(\"1. Science\")\n",
    "            print(\"2. Maths\")\n",
    "            print(\"3. Geography\")\n",
    "            print(\"4. Others\")\n",
    "            print(\"5. Exit\")\n",
    "            choice = input(\"Enter your choice (1-5): \").strip()\n",
    "\n",
    "            if choice == \"1\":\n",
    "                return science\n",
    "            elif choice == \"2\":\n",
    "                return maths\n",
    "            elif choice == \"3\":\n",
    "                return geography\n",
    "            elif choice == \"4\":\n",
    "                return others\n",
    "            elif choice == \"5\":\n",
    "                return None\n",
    "            else:\n",
    "                print(\"Invalid category, try again.\")\n",
    "\n",
    "    def exec_questions(questions):\n",
    "        score = 0\n",
    "        total = 0\n",
    "        for question, correct_answer in questions.items():\n",
    "            print(f\"\\nQuestion: {question}\")\n",
    "            user_answer = input(\"Your answer (or 'q' to quit): \").strip()\n",
    "            if user_answer.lower() == 'q':\n",
    "                break\n",
    "            total += 1\n",
    "            if user_answer.lower() == correct_answer.lower():\n",
    "                print(\"✅ Correct!\")\n",
    "                score += 1\n",
    "            else:\n",
    "                print(f\"❌ Incorrect! The correct answer is: {correct_answer}\")\n",
    "        return score, total\n",
    "\n",
    "    def display_score(score, total):\n",
    "        print(\"\\n----- Quiz Completed -----\")\n",
    "        print(f\"Total Questions: {total}\")\n",
    "        print(f\"Correct Answers: {score}\")\n",
    "        if total > 0:\n",
    "            percentage = (score / total) * 100\n",
    "            print(f\"🎯 Your Score: {percentage:.2f}%\")\n",
    "        else:\n",
    "            print(\"No questions were answered.\")\n",
    "\n",
    "    def play_game():\n",
    "        while True:\n",
    "            questions = ask_category()\n",
    "            if questions is None:\n",
    "                print(\"Exiting game.\")\n",
    "                break\n",
    "            score, total = exec_questions(questions)\n",
    "            display_score(score, total)\n",
    "\n",
    "            while True:\n",
    "                again = input(\"\\nDo you want to play another category? (Yes/No): \").strip().lower()\n",
    "                if again == \"yes\":\n",
    "                    break\n",
    "                elif again == \"no\":\n",
    "                    print(\"Thank you for playing! Goodbye 👋\")\n",
    "                    return\n",
    "                else:\n",
    "                    print(\"Please enter 'Yes' or 'No'.\")\n",
    "\n",
    "    play_game()\n",
    "\n",
    "# Run the game\n",
    "if __name__ == \"__main__\":\n",
    "    play_gk_quiz()\n"
   ]
  },
  {
   "cell_type": "markdown",
   "id": "236aa0d4-66a9-45b8-8532-62e6d7a45d05",
   "metadata": {},
   "source": [
    "##### "
   ]
  },
  {
   "cell_type": "code",
   "execution_count": 92,
   "id": "aebe1e7c-77cb-47a8-bd46-6fc09a318292",
   "metadata": {},
   "outputs": [
    {
     "name": "stdout",
     "output_type": "stream",
     "text": [
      "Welcome to Rock Paper Scissor Game\n"
     ]
    },
    {
     "name": "stdin",
     "output_type": "stream",
     "text": [
      "Enter your choice (Rock/Paper/Scissor) (q to quit):  q\n"
     ]
    },
    {
     "name": "stdout",
     "output_type": "stream",
     "text": [
      "---Game Over---\n",
      "Your final score is: 0 out of 1 as 0.00%\n"
     ]
    }
   ],
   "source": [
    "# TASK - 4 Rock Paper Scissor Game with computer\n",
    "import random\n",
    "\n",
    "def play_rps_with_computer():  \n",
    "    print(\"Welcome to Rock Paper Scissor Game\")\n",
    "    options = [\"Rock\", \"Paper\", \"Scissor\"]\n",
    "    score = 0\n",
    "    total = 1\n",
    "    \n",
    "    \n",
    "    while True:\n",
    "        user_input = input(\"Enter your choice (Rock/Paper/Scissor) (q to quit): \")\n",
    "        if user_input.lower() == \"q\":\n",
    "            break\n",
    "        if user_input.title() not in options:\n",
    "            print(\"Invalid entry! Try again\")\n",
    "            continue\n",
    "        computer = random.choice(options)\n",
    "        print(f\"The computer choice is {computer}\")\n",
    "        print(f\"Your choice is {user_input.title()}\")\n",
    "        if user_input.title() == computer:\n",
    "            print(\"Its a tie\")\n",
    "            total += 1\n",
    "        elif user_input.title() == \"Paper\" and computer == \"Rock\":\n",
    "            print(\"Paper covers rock, You Won!\")\n",
    "            score += 1\n",
    "            total += 1\n",
    "        elif user_input.title() == \"Rock\" and computer == \"Scissor\":\n",
    "            print(\"Rock crushes scissor, You Won!\")\n",
    "            score += 1\n",
    "            total += 1\n",
    "        elif user_input.title() == \"Scissor\" and computer == \"Paper\":\n",
    "            print(\"Scissor cuts Paper, You Won!\")\n",
    "            score += 1\n",
    "            total += 1\n",
    "        elif user_input.title() == \"Rock\" and computer == \"Paper\":\n",
    "            print(\"Paper covers rock, Computer Won!\")\n",
    "            total += 1\n",
    "        elif user_input.title() == \"Scissor\" and computer == \"Rock\":\n",
    "            print(\"Rock crushes scissor, Computer Won!\")\n",
    "            total += 1\n",
    "        elif user_input.title() == \"Paper\" and computer == \"Scissor\":\n",
    "            print(\"Scissor cuts Paper, Computer Won!\")\n",
    "            total += 1\n",
    "    \n",
    "    print(\"---Game Over---\")\n",
    "    if total == 0:\n",
    "        print(\"No games were played.\")\n",
    "    else:\n",
    "        percentage = (score / total) * 100\n",
    "        print(f\"Your final score is: {score} out of {total} as {percentage:.2f}%\")\n",
    "\n",
    "play_rps_with_computer()"
   ]
  },
  {
   "cell_type": "code",
   "execution_count": 15,
   "id": "d8d615c0-dcc6-427a-a3ae-620a2e3f37b5",
   "metadata": {},
   "outputs": [
    {
     "name": "stdout",
     "output_type": "stream",
     "text": [
      "🎮 --- Welcome to Rock Paper Scissors Game (2 Players) --- 🎮\n"
     ]
    },
    {
     "name": "stdin",
     "output_type": "stream",
     "text": [
      "👤 Enter name of User 1:  g\n",
      "👤 Enter name of User 2:  h\n"
     ]
    },
    {
     "name": "stdout",
     "output_type": "stream",
     "text": [
      "\n",
      "Round 1\n"
     ]
    },
    {
     "name": "stdin",
     "output_type": "stream",
     "text": [
      "g, enter your choice (Rock/Paper/Scissor):  rock\n",
      "h, enter your choice (Rock/Paper/Scissor):  paper\n"
     ]
    },
    {
     "name": "stdout",
     "output_type": "stream",
     "text": [
      "✅ h wins this round!\n",
      "\n",
      "📊 Current Score:\n",
      "g: 0 | h: 1\n"
     ]
    },
    {
     "name": "stdin",
     "output_type": "stream",
     "text": [
      "\n",
      "Do you want to play the next round? (y/n):  n\n"
     ]
    },
    {
     "name": "stdout",
     "output_type": "stream",
     "text": [
      "\n",
      "🏁 --- Game Over ---\n",
      "🧾 Total Rounds Played: 1\n",
      "g's Score: 0\n",
      "h's Score: 1\n",
      "🏆 Overall Winner: h!\n",
      "🙏 Thanks for playing!\n"
     ]
    }
   ],
   "source": [
    "def play_rps_with_user():\n",
    "    import os\n",
    "\n",
    "    def clear_screen():\n",
    "        os.system('cls' if os.name == 'nt' else 'clear')\n",
    "\n",
    "    options = [\"rock\", \"paper\", \"scissor\"]\n",
    "    user1_score = 0\n",
    "    user2_score = 0\n",
    "    total_rounds = 0\n",
    "\n",
    "    print(\"🎮 --- Welcome to Rock Paper Scissors Game (2 Players) --- 🎮\")\n",
    "    user1 = input(\"👤 Enter name of User 1: \").strip()\n",
    "    user2 = input(\"👤 Enter name of User 2: \").strip()\n",
    "\n",
    "    while True:\n",
    "        print(f\"\\nRound {total_rounds + 1}\")\n",
    "        user1_input = input(f\"{user1}, enter your choice (Rock/Paper/Scissor): \").strip().lower()\n",
    "        user2_input = input(f\"{user2}, enter your choice (Rock/Paper/Scissor): \").strip().lower()\n",
    "\n",
    "        if user1_input not in options or user2_input not in options:\n",
    "            print(\"❌ Invalid entry by one or both users. Please enter Rock, Paper, or Scissor.\")\n",
    "            continue\n",
    "\n",
    "        total_rounds += 1\n",
    "\n",
    "        if user1_input == user2_input:\n",
    "            print(\"🤝 It's a tie!\")\n",
    "        elif (\n",
    "            (user1_input == \"rock\" and user2_input == \"scissor\") or\n",
    "            (user1_input == \"paper\" and user2_input == \"rock\") or\n",
    "            (user1_input == \"scissor\" and user2_input == \"paper\")\n",
    "        ):\n",
    "            print(f\"✅ {user1} wins this round!\")\n",
    "            user1_score += 1\n",
    "        else:\n",
    "            print(f\"✅ {user2} wins this round!\")\n",
    "            user2_score += 1\n",
    "\n",
    "        print(f\"\\n📊 Current Score:\")\n",
    "        print(f\"{user1}: {user1_score} | {user2}: {user2_score}\")\n",
    "\n",
    "        # Ask if users want to play the next round\n",
    "        while True:\n",
    "            cont = input(\"\\nDo you want to play the next round? (y/n): \").strip().lower()\n",
    "            if cont == 'y':\n",
    "                break\n",
    "            elif cont == 'n':\n",
    "                print(\"\\n🏁 --- Game Over ---\")\n",
    "                print(f\"🧾 Total Rounds Played: {total_rounds}\")\n",
    "                print(f\"{user1}'s Score: {user1_score}\")\n",
    "                print(f\"{user2}'s Score: {user2_score}\")\n",
    "                if user1_score > user2_score:\n",
    "                    print(f\"🏆 Overall Winner: {user1}!\")\n",
    "                elif user2_score > user1_score:\n",
    "                    print(f\"🏆 Overall Winner: {user2}!\")\n",
    "                else:\n",
    "                    print(\"🤝 It's a Draw!\")\n",
    "                print(\"🙏 Thanks for playing!\")\n",
    "                return\n",
    "            else:\n",
    "                print(\"❗ Please enter 'y' or 'n'.\")\n",
    "\n",
    "# Run the game\n",
    "if __name__ == \"__main__\":\n",
    "    play_rps_with_user()\n"
   ]
  },
  {
   "cell_type": "code",
   "execution_count": null,
   "id": "565e5cf5-8d63-4597-b043-7fb160305645",
   "metadata": {},
   "outputs": [],
   "source": []
  }
 ],
 "metadata": {
  "kernelspec": {
   "display_name": "Python [conda env:base] *",
   "language": "python",
   "name": "conda-base-py"
  },
  "language_info": {
   "codemirror_mode": {
    "name": "ipython",
    "version": 3
   },
   "file_extension": ".py",
   "mimetype": "text/x-python",
   "name": "python",
   "nbconvert_exporter": "python",
   "pygments_lexer": "ipython3",
   "version": "3.13.5"
  }
 },
 "nbformat": 4,
 "nbformat_minor": 5
}
